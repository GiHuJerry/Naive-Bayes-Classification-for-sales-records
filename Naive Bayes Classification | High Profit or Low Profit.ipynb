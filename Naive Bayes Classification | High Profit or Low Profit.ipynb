{
 "cells": [
  {
   "cell_type": "markdown",
   "metadata": {},
   "source": [
    "# Aim\n",
    "This project is intended to fit Naive Bayes model to the same sales dataset so we can use this model to predict whether a product category is in the high-profit category or low-profit category"
   ]
  },
  {
   "cell_type": "code",
   "execution_count": 15,
   "metadata": {},
   "outputs": [],
   "source": [
    "import pandas as pd\n",
    "from pandas import Series, DataFrame\n",
    "import numpy as np\n",
    "import matplotlib.pyplot as plt\n",
    "import seaborn as sns\n",
    "%matplotlib inline"
   ]
  },
  {
   "cell_type": "code",
   "execution_count": 16,
   "metadata": {},
   "outputs": [
    {
     "data": {
      "text/html": [
       "<div>\n",
       "<style scoped>\n",
       "    .dataframe tbody tr th:only-of-type {\n",
       "        vertical-align: middle;\n",
       "    }\n",
       "\n",
       "    .dataframe tbody tr th {\n",
       "        vertical-align: top;\n",
       "    }\n",
       "\n",
       "    .dataframe thead th {\n",
       "        text-align: right;\n",
       "    }\n",
       "</style>\n",
       "<table border=\"1\" class=\"dataframe\">\n",
       "  <thead>\n",
       "    <tr style=\"text-align: right;\">\n",
       "      <th></th>\n",
       "      <th>row</th>\n",
       "      <th>order_priority</th>\n",
       "      <th>order_date</th>\n",
       "      <th>order_id</th>\n",
       "      <th>discount</th>\n",
       "      <th>unit_price</th>\n",
       "      <th>order_quantity</th>\n",
       "      <th>sales</th>\n",
       "      <th>shipping_cost</th>\n",
       "      <th>product_base_margin</th>\n",
       "      <th>...</th>\n",
       "      <th>city</th>\n",
       "      <th>postal_code</th>\n",
       "      <th>ship_date</th>\n",
       "      <th>ship_mode</th>\n",
       "      <th>subregion</th>\n",
       "      <th>new_order_date</th>\n",
       "      <th>year_order_date</th>\n",
       "      <th>new_discount</th>\n",
       "      <th>new_margin</th>\n",
       "      <th>profit</th>\n",
       "    </tr>\n",
       "  </thead>\n",
       "  <tbody>\n",
       "    <tr>\n",
       "      <th>0</th>\n",
       "      <td>3689</td>\n",
       "      <td>Medium</td>\n",
       "      <td>28/01/2011</td>\n",
       "      <td>97</td>\n",
       "      <td>3%</td>\n",
       "      <td>3.0</td>\n",
       "      <td>26</td>\n",
       "      <td>75.66</td>\n",
       "      <td>1.0</td>\n",
       "      <td>38.0%</td>\n",
       "      <td>...</td>\n",
       "      <td>Jakarta</td>\n",
       "      <td>NaN</td>\n",
       "      <td>29/01/2011</td>\n",
       "      <td>Regular Air</td>\n",
       "      <td>NaN</td>\n",
       "      <td>2011-01-28</td>\n",
       "      <td>2011</td>\n",
       "      <td>0.03</td>\n",
       "      <td>0.38</td>\n",
       "      <td>26.3</td>\n",
       "    </tr>\n",
       "  </tbody>\n",
       "</table>\n",
       "<p>1 rows × 30 columns</p>\n",
       "</div>"
      ],
      "text/plain": [
       "    row order_priority  order_date  order_id discount  unit_price  \\\n",
       "0  3689         Medium  28/01/2011        97       3%         3.0   \n",
       "\n",
       "   order_quantity  sales  shipping_cost product_base_margin  ...     city  \\\n",
       "0              26  75.66            1.0               38.0%  ...  Jakarta   \n",
       "\n",
       "  postal_code   ship_date    ship_mode subregion  new_order_date  \\\n",
       "0         NaN  29/01/2011  Regular Air       NaN      2011-01-28   \n",
       "\n",
       "  year_order_date new_discount new_margin profit  \n",
       "0            2011         0.03       0.38   26.3  \n",
       "\n",
       "[1 rows x 30 columns]"
      ]
     },
     "execution_count": 16,
     "metadata": {},
     "output_type": "execute_result"
    }
   ],
   "source": [
    "Orders = pd.read_csv('Orders_1.csv')\n",
    "Orders.head(1)"
   ]
  },
  {
   "cell_type": "markdown",
   "metadata": {},
   "source": [
    "##### 1. Prepare data\n",
    "Categorizing 'Profit' column so 1 mean high profit and 0 means low profit"
   ]
  },
  {
   "cell_type": "code",
   "execution_count": 17,
   "metadata": {},
   "outputs": [],
   "source": [
    "Orders['Profit_level'] = np.where(Orders['profit'] > 1000, '1','0')"
   ]
  },
  {
   "cell_type": "code",
   "execution_count": 18,
   "metadata": {},
   "outputs": [
    {
     "data": {
      "text/html": [
       "<div>\n",
       "<style scoped>\n",
       "    .dataframe tbody tr th:only-of-type {\n",
       "        vertical-align: middle;\n",
       "    }\n",
       "\n",
       "    .dataframe tbody tr th {\n",
       "        vertical-align: top;\n",
       "    }\n",
       "\n",
       "    .dataframe thead th {\n",
       "        text-align: right;\n",
       "    }\n",
       "</style>\n",
       "<table border=\"1\" class=\"dataframe\">\n",
       "  <thead>\n",
       "    <tr style=\"text-align: right;\">\n",
       "      <th></th>\n",
       "      <th>row</th>\n",
       "      <th>order_priority</th>\n",
       "      <th>order_date</th>\n",
       "      <th>order_id</th>\n",
       "      <th>discount</th>\n",
       "      <th>unit_price</th>\n",
       "      <th>order_quantity</th>\n",
       "      <th>sales</th>\n",
       "      <th>shipping_cost</th>\n",
       "      <th>product_base_margin</th>\n",
       "      <th>...</th>\n",
       "      <th>postal_code</th>\n",
       "      <th>ship_date</th>\n",
       "      <th>ship_mode</th>\n",
       "      <th>subregion</th>\n",
       "      <th>new_order_date</th>\n",
       "      <th>year_order_date</th>\n",
       "      <th>new_discount</th>\n",
       "      <th>new_margin</th>\n",
       "      <th>profit</th>\n",
       "      <th>Profit_level</th>\n",
       "    </tr>\n",
       "  </thead>\n",
       "  <tbody>\n",
       "    <tr>\n",
       "      <th>138</th>\n",
       "      <td>1277</td>\n",
       "      <td>Medium</td>\n",
       "      <td>12/05/2010</td>\n",
       "      <td>1314</td>\n",
       "      <td>0%</td>\n",
       "      <td>9.0</td>\n",
       "      <td>6</td>\n",
       "      <td>54.00</td>\n",
       "      <td>4.0</td>\n",
       "      <td>38.0%</td>\n",
       "      <td>...</td>\n",
       "      <td>NaN</td>\n",
       "      <td>14/05/2010</td>\n",
       "      <td>Regular Air</td>\n",
       "      <td>NaN</td>\n",
       "      <td>2010-05-12</td>\n",
       "      <td>2010</td>\n",
       "      <td>0.00</td>\n",
       "      <td>0.38</td>\n",
       "      <td>16.52</td>\n",
       "      <td>0</td>\n",
       "    </tr>\n",
       "    <tr>\n",
       "      <th>139</th>\n",
       "      <td>8769</td>\n",
       "      <td>High</td>\n",
       "      <td>18/05/2012</td>\n",
       "      <td>1317</td>\n",
       "      <td>6%</td>\n",
       "      <td>12.0</td>\n",
       "      <td>69</td>\n",
       "      <td>778.32</td>\n",
       "      <td>6.0</td>\n",
       "      <td>40.0%</td>\n",
       "      <td>...</td>\n",
       "      <td>NaN</td>\n",
       "      <td>20/05/2012</td>\n",
       "      <td>Regular Air</td>\n",
       "      <td>Canada                                        ...</td>\n",
       "      <td>2012-05-18</td>\n",
       "      <td>2012</td>\n",
       "      <td>0.06</td>\n",
       "      <td>0.40</td>\n",
       "      <td>275.52</td>\n",
       "      <td>0</td>\n",
       "    </tr>\n",
       "    <tr>\n",
       "      <th>140</th>\n",
       "      <td>12865</td>\n",
       "      <td>Low</td>\n",
       "      <td>15/04/2013</td>\n",
       "      <td>1344</td>\n",
       "      <td>1%</td>\n",
       "      <td>156.0</td>\n",
       "      <td>18</td>\n",
       "      <td>2779.92</td>\n",
       "      <td>9.0</td>\n",
       "      <td>58.0%</td>\n",
       "      <td>...</td>\n",
       "      <td>NaN</td>\n",
       "      <td>19/04/2013</td>\n",
       "      <td>Regular Air</td>\n",
       "      <td>NaN</td>\n",
       "      <td>2013-04-15</td>\n",
       "      <td>2013</td>\n",
       "      <td>0.01</td>\n",
       "      <td>0.58</td>\n",
       "      <td>1591.56</td>\n",
       "      <td>1</td>\n",
       "    </tr>\n",
       "    <tr>\n",
       "      <th>141</th>\n",
       "      <td>15909</td>\n",
       "      <td>Low</td>\n",
       "      <td>27/10/2013</td>\n",
       "      <td>1345</td>\n",
       "      <td>8%</td>\n",
       "      <td>101.0</td>\n",
       "      <td>50</td>\n",
       "      <td>4646.00</td>\n",
       "      <td>36.0</td>\n",
       "      <td>62.0%</td>\n",
       "      <td>...</td>\n",
       "      <td>NaN</td>\n",
       "      <td>31/10/2013</td>\n",
       "      <td>Delivery Truck</td>\n",
       "      <td>NaN</td>\n",
       "      <td>2013-10-27</td>\n",
       "      <td>2013</td>\n",
       "      <td>0.08</td>\n",
       "      <td>0.62</td>\n",
       "      <td>2691.00</td>\n",
       "      <td>1</td>\n",
       "    </tr>\n",
       "    <tr>\n",
       "      <th>142</th>\n",
       "      <td>2515</td>\n",
       "      <td>Medium</td>\n",
       "      <td>20/09/2010</td>\n",
       "      <td>960</td>\n",
       "      <td>7%</td>\n",
       "      <td>14.0</td>\n",
       "      <td>84</td>\n",
       "      <td>1093.68</td>\n",
       "      <td>7.0</td>\n",
       "      <td>54.0%</td>\n",
       "      <td>...</td>\n",
       "      <td>NaN</td>\n",
       "      <td>21/09/2010</td>\n",
       "      <td>Regular Air</td>\n",
       "      <td>NaN</td>\n",
       "      <td>2010-09-20</td>\n",
       "      <td>2010</td>\n",
       "      <td>0.07</td>\n",
       "      <td>0.54</td>\n",
       "      <td>545.72</td>\n",
       "      <td>0</td>\n",
       "    </tr>\n",
       "    <tr>\n",
       "      <th>143</th>\n",
       "      <td>13889</td>\n",
       "      <td>High</td>\n",
       "      <td>17/06/2013</td>\n",
       "      <td>1346</td>\n",
       "      <td>9%</td>\n",
       "      <td>101.0</td>\n",
       "      <td>72</td>\n",
       "      <td>6617.52</td>\n",
       "      <td>26.0</td>\n",
       "      <td>60.0%</td>\n",
       "      <td>...</td>\n",
       "      <td>NaN</td>\n",
       "      <td>19/06/2013</td>\n",
       "      <td>Delivery Truck</td>\n",
       "      <td>NaN</td>\n",
       "      <td>2013-06-17</td>\n",
       "      <td>2013</td>\n",
       "      <td>0.09</td>\n",
       "      <td>0.60</td>\n",
       "      <td>3682.72</td>\n",
       "      <td>1</td>\n",
       "    </tr>\n",
       "    <tr>\n",
       "      <th>144</th>\n",
       "      <td>5713</td>\n",
       "      <td>Low</td>\n",
       "      <td>16/08/2011</td>\n",
       "      <td>1382</td>\n",
       "      <td>6%</td>\n",
       "      <td>21.0</td>\n",
       "      <td>9</td>\n",
       "      <td>177.66</td>\n",
       "      <td>3.0</td>\n",
       "      <td>81.0%</td>\n",
       "      <td>...</td>\n",
       "      <td>NaN</td>\n",
       "      <td>20/08/2011</td>\n",
       "      <td>Regular Air</td>\n",
       "      <td>NaN</td>\n",
       "      <td>2011-08-16</td>\n",
       "      <td>2011</td>\n",
       "      <td>0.06</td>\n",
       "      <td>0.81</td>\n",
       "      <td>138.75</td>\n",
       "      <td>0</td>\n",
       "    </tr>\n",
       "    <tr>\n",
       "      <th>145</th>\n",
       "      <td>14771</td>\n",
       "      <td>Low</td>\n",
       "      <td>16/08/2013</td>\n",
       "      <td>1382</td>\n",
       "      <td>2%</td>\n",
       "      <td>221.0</td>\n",
       "      <td>62</td>\n",
       "      <td>13427.96</td>\n",
       "      <td>65.0</td>\n",
       "      <td>62.0%</td>\n",
       "      <td>...</td>\n",
       "      <td>NaN</td>\n",
       "      <td>23/08/2013</td>\n",
       "      <td>Delivery Truck</td>\n",
       "      <td>NaN</td>\n",
       "      <td>2013-08-16</td>\n",
       "      <td>2013</td>\n",
       "      <td>0.02</td>\n",
       "      <td>0.62</td>\n",
       "      <td>8156.20</td>\n",
       "      <td>1</td>\n",
       "    </tr>\n",
       "    <tr>\n",
       "      <th>146</th>\n",
       "      <td>4555</td>\n",
       "      <td>High</td>\n",
       "      <td>26/04/2011</td>\n",
       "      <td>1383</td>\n",
       "      <td>7%</td>\n",
       "      <td>416.0</td>\n",
       "      <td>43</td>\n",
       "      <td>16635.84</td>\n",
       "      <td>11.0</td>\n",
       "      <td>57.0%</td>\n",
       "      <td>...</td>\n",
       "      <td>NaN</td>\n",
       "      <td>27/04/2011</td>\n",
       "      <td>Regular Air</td>\n",
       "      <td>NaN</td>\n",
       "      <td>2011-04-26</td>\n",
       "      <td>2011</td>\n",
       "      <td>0.07</td>\n",
       "      <td>0.57</td>\n",
       "      <td>8933.00</td>\n",
       "      <td>1</td>\n",
       "    </tr>\n",
       "    <tr>\n",
       "      <th>147</th>\n",
       "      <td>3337</td>\n",
       "      <td>High</td>\n",
       "      <td>20/12/2010</td>\n",
       "      <td>1411</td>\n",
       "      <td>9%</td>\n",
       "      <td>161.0</td>\n",
       "      <td>72</td>\n",
       "      <td>10548.72</td>\n",
       "      <td>35.0</td>\n",
       "      <td>72.0%</td>\n",
       "      <td>...</td>\n",
       "      <td>NaN</td>\n",
       "      <td>21/12/2010</td>\n",
       "      <td>Delivery Truck</td>\n",
       "      <td>NaN</td>\n",
       "      <td>2010-12-20</td>\n",
       "      <td>2010</td>\n",
       "      <td>0.09</td>\n",
       "      <td>0.72</td>\n",
       "      <td>7267.96</td>\n",
       "      <td>1</td>\n",
       "    </tr>\n",
       "  </tbody>\n",
       "</table>\n",
       "<p>10 rows × 31 columns</p>\n",
       "</div>"
      ],
      "text/plain": [
       "       row order_priority  order_date  order_id discount  unit_price  \\\n",
       "138   1277         Medium  12/05/2010      1314       0%         9.0   \n",
       "139   8769           High  18/05/2012      1317       6%        12.0   \n",
       "140  12865            Low  15/04/2013      1344       1%       156.0   \n",
       "141  15909            Low  27/10/2013      1345       8%       101.0   \n",
       "142   2515         Medium  20/09/2010       960       7%        14.0   \n",
       "143  13889           High  17/06/2013      1346       9%       101.0   \n",
       "144   5713            Low  16/08/2011      1382       6%        21.0   \n",
       "145  14771            Low  16/08/2013      1382       2%       221.0   \n",
       "146   4555           High  26/04/2011      1383       7%       416.0   \n",
       "147   3337           High  20/12/2010      1411       9%       161.0   \n",
       "\n",
       "     order_quantity     sales  shipping_cost product_base_margin  ...  \\\n",
       "138               6     54.00            4.0               38.0%  ...   \n",
       "139              69    778.32            6.0               40.0%  ...   \n",
       "140              18   2779.92            9.0               58.0%  ...   \n",
       "141              50   4646.00           36.0               62.0%  ...   \n",
       "142              84   1093.68            7.0               54.0%  ...   \n",
       "143              72   6617.52           26.0               60.0%  ...   \n",
       "144               9    177.66            3.0               81.0%  ...   \n",
       "145              62  13427.96           65.0               62.0%  ...   \n",
       "146              43  16635.84           11.0               57.0%  ...   \n",
       "147              72  10548.72           35.0               72.0%  ...   \n",
       "\n",
       "    postal_code   ship_date       ship_mode  \\\n",
       "138         NaN  14/05/2010     Regular Air   \n",
       "139         NaN  20/05/2012     Regular Air   \n",
       "140         NaN  19/04/2013     Regular Air   \n",
       "141         NaN  31/10/2013  Delivery Truck   \n",
       "142         NaN  21/09/2010     Regular Air   \n",
       "143         NaN  19/06/2013  Delivery Truck   \n",
       "144         NaN  20/08/2011     Regular Air   \n",
       "145         NaN  23/08/2013  Delivery Truck   \n",
       "146         NaN  27/04/2011     Regular Air   \n",
       "147         NaN  21/12/2010  Delivery Truck   \n",
       "\n",
       "                                             subregion new_order_date  \\\n",
       "138                                                NaN     2010-05-12   \n",
       "139  Canada                                        ...     2012-05-18   \n",
       "140                                                NaN     2013-04-15   \n",
       "141                                                NaN     2013-10-27   \n",
       "142                                                NaN     2010-09-20   \n",
       "143                                                NaN     2013-06-17   \n",
       "144                                                NaN     2011-08-16   \n",
       "145                                                NaN     2013-08-16   \n",
       "146                                                NaN     2011-04-26   \n",
       "147                                                NaN     2010-12-20   \n",
       "\n",
       "     year_order_date new_discount new_margin   profit Profit_level  \n",
       "138             2010         0.00       0.38    16.52            0  \n",
       "139             2012         0.06       0.40   275.52            0  \n",
       "140             2013         0.01       0.58  1591.56            1  \n",
       "141             2013         0.08       0.62  2691.00            1  \n",
       "142             2010         0.07       0.54   545.72            0  \n",
       "143             2013         0.09       0.60  3682.72            1  \n",
       "144             2011         0.06       0.81   138.75            0  \n",
       "145             2013         0.02       0.62  8156.20            1  \n",
       "146             2011         0.07       0.57  8933.00            1  \n",
       "147             2010         0.09       0.72  7267.96            1  \n",
       "\n",
       "[10 rows x 31 columns]"
      ]
     },
     "execution_count": 18,
     "metadata": {},
     "output_type": "execute_result"
    }
   ],
   "source": [
    "Orders.tail(10)"
   ]
  },
  {
   "cell_type": "markdown",
   "metadata": {},
   "source": [
    "##### 1-1. Prepare data\n",
    "Categorizing 'category' column so numer 1 to 14 represent 14 different categories of products"
   ]
  },
  {
   "cell_type": "code",
   "execution_count": 19,
   "metadata": {},
   "outputs": [
    {
     "data": {
      "text/plain": [
       "0     0\n",
       "1     1\n",
       "2     7\n",
       "3    10\n",
       "4     4\n",
       "Name: Category_code, dtype: int64"
      ]
     },
     "execution_count": 19,
     "metadata": {},
     "output_type": "execute_result"
    }
   ],
   "source": [
    "Orders['Category_code'] = Orders['category']\n",
    "\n",
    "Orders['Category_code']  = Orders['Category_code'].replace({'Labels':0,'Chairs & Chairmats':1, 'Scissors, Rulers and Trimmers':2,'Paper':3,'Office Machines':4,\n",
    "                       'Telephones and Communication':5,'Pens & Art Supplies':6,'Scissors, Rulers and Trimmers':7,'Appliances':8,\n",
    "                      'Binders and Binder Accessories':9,'Paper':10,'Envelopes':11,'Binders and Binder Accessories':12,'Bookcases':13,\n",
    "                       'Tables':14, 'Rubber Bands':15,'Office Furnishings':16,'Computer Peripherals':17, 'Storage & Organization':18})\n",
    "Orders['Category_code'].head(5)"
   ]
  },
  {
   "cell_type": "markdown",
   "metadata": {},
   "source": [
    "##### 1-2. Prepare data\n",
    "Creating two lists that will be used for sklearn model"
   ]
  },
  {
   "cell_type": "code",
   "execution_count": 20,
   "metadata": {},
   "outputs": [
    {
     "data": {
      "text/plain": [
       "[(0, 3.0), (1, 151.0), (7, 2.0), (10, 6.0), (4, 151.0)]"
      ]
     },
     "execution_count": 20,
     "metadata": {},
     "output_type": "execute_result"
    }
   ],
   "source": [
    "Data_1 = np.array(Orders['Category_code'])\n",
    "Data_2 = np.array(Orders['unit_price'])\n",
    "\n",
    "Data=list(zip(Data_1,Data_2))\n",
    "Data[:5]"
   ]
  },
  {
   "cell_type": "code",
   "execution_count": 21,
   "metadata": {},
   "outputs": [
    {
     "data": {
      "text/plain": [
       "148"
      ]
     },
     "execution_count": 21,
     "metadata": {},
     "output_type": "execute_result"
    }
   ],
   "source": [
    "Target = list(Orders['Profit_level'])\n",
    "len(Target)"
   ]
  },
  {
   "cell_type": "markdown",
   "metadata": {},
   "source": [
    "##### 2 Apply Sklearn model\n",
    "Apply sklearn model to seperate data into test set and training set"
   ]
  },
  {
   "cell_type": "code",
   "execution_count": 22,
   "metadata": {},
   "outputs": [],
   "source": [
    "# Import train_test_split function\n",
    "\n",
    "from sklearn.model_selection import train_test_split\n",
    "# Split dataset into training set and test set\n",
    "X_train, X_test, y_train, y_test = train_test_split(Data, Target, test_size=0.3,random_state=109) # 70% training and 30% test"
   ]
  },
  {
   "cell_type": "markdown",
   "metadata": {},
   "source": [
    "##### 3. Apply Naive Bayes model\n",
    "Apply sklearn model to seperate data into test set and training set"
   ]
  },
  {
   "cell_type": "code",
   "execution_count": 23,
   "metadata": {},
   "outputs": [],
   "source": [
    "#Import Gaussian Naive Bayes model\n",
    "from sklearn.naive_bayes import GaussianNB\n",
    "\n",
    "#Create a Gaussian Classifier\n",
    "gnb = GaussianNB()\n",
    "\n",
    "#Train the model using the training sets\n",
    "gnb.fit(X_train, y_train)\n",
    "\n",
    "#Predict the response for test dataset\n",
    "y_pred = gnb.predict(X_test)"
   ]
  },
  {
   "cell_type": "code",
   "execution_count": 24,
   "metadata": {},
   "outputs": [
    {
     "name": "stdout",
     "output_type": "stream",
     "text": [
      "Accuracy: 0.7777777777777778\n"
     ]
    }
   ],
   "source": [
    "#Import scikit-learn metrics module for accuracy calculation\n",
    "from sklearn import metrics\n",
    "\n",
    "# Model Accuracy, how often is the classifier correct?\n",
    "print(\"Accuracy:\",metrics.accuracy_score(y_test, y_pred))"
   ]
  },
  {
   "cell_type": "markdown",
   "metadata": {},
   "source": [
    "##### 4. use Naive Bayes to predict and then compare the prediction result against supplied data"
   ]
  },
  {
   "cell_type": "code",
   "execution_count": 25,
   "metadata": {},
   "outputs": [
    {
     "data": {
      "text/html": [
       "<div>\n",
       "<style scoped>\n",
       "    .dataframe tbody tr th:only-of-type {\n",
       "        vertical-align: middle;\n",
       "    }\n",
       "\n",
       "    .dataframe tbody tr th {\n",
       "        vertical-align: top;\n",
       "    }\n",
       "\n",
       "    .dataframe thead th {\n",
       "        text-align: right;\n",
       "    }\n",
       "</style>\n",
       "<table border=\"1\" class=\"dataframe\">\n",
       "  <thead>\n",
       "    <tr style=\"text-align: right;\">\n",
       "      <th></th>\n",
       "      <th>Predicts</th>\n",
       "      <th>original</th>\n",
       "    </tr>\n",
       "  </thead>\n",
       "  <tbody>\n",
       "    <tr>\n",
       "      <th>0</th>\n",
       "      <td>0</td>\n",
       "      <td>0</td>\n",
       "    </tr>\n",
       "    <tr>\n",
       "      <th>1</th>\n",
       "      <td>0</td>\n",
       "      <td>1</td>\n",
       "    </tr>\n",
       "    <tr>\n",
       "      <th>2</th>\n",
       "      <td>0</td>\n",
       "      <td>0</td>\n",
       "    </tr>\n",
       "    <tr>\n",
       "      <th>3</th>\n",
       "      <td>0</td>\n",
       "      <td>0</td>\n",
       "    </tr>\n",
       "    <tr>\n",
       "      <th>4</th>\n",
       "      <td>1</td>\n",
       "      <td>0</td>\n",
       "    </tr>\n",
       "  </tbody>\n",
       "</table>\n",
       "</div>"
      ],
      "text/plain": [
       "  Predicts original\n",
       "0        0        0\n",
       "1        0        1\n",
       "2        0        0\n",
       "3        0        0\n",
       "4        1        0"
      ]
     },
     "execution_count": 25,
     "metadata": {},
     "output_type": "execute_result"
    }
   ],
   "source": [
    "import pandas as pd\n",
    "from pandas import Series,DataFrame\n",
    "predict_column = []\n",
    "i=0\n",
    "for anything in Data:\n",
    "    predicted= gnb.predict([Data[i]])\n",
    "    i=i+1\n",
    "    predict_column.append(predicted)\n",
    "\n",
    "    \n",
    "new_df= DataFrame(predict_column)\n",
    "new_df.columns = ['Predicts']\n",
    "new_df['original'] = Target\n",
    "new_df.head()\n"
   ]
  },
  {
   "cell_type": "markdown",
   "metadata": {},
   "source": [
    "##### 5. checking prediction accuracy"
   ]
  },
  {
   "cell_type": "code",
   "execution_count": 26,
   "metadata": {},
   "outputs": [
    {
     "data": {
      "text/plain": [
       "1    115\n",
       "0     33\n",
       "Name: Accuracy, dtype: int64"
      ]
     },
     "execution_count": 26,
     "metadata": {},
     "output_type": "execute_result"
    }
   ],
   "source": [
    "import numpy as np\n",
    "new_df['Accuracy'] = np.where(new_df['Predicts'] == new_df['original'], '1','0')\n",
    "new_df['Accuracy'].value_counts()"
   ]
  },
  {
   "cell_type": "code",
   "execution_count": 27,
   "metadata": {},
   "outputs": [
    {
     "data": {
      "text/plain": [
       "0.777027027027027"
      ]
     },
     "execution_count": 27,
     "metadata": {},
     "output_type": "execute_result"
    }
   ],
   "source": [
    "Accurate_rate= (115/148)\n",
    "Accurate_rate"
   ]
  },
  {
   "cell_type": "markdown",
   "metadata": {},
   "source": [
    "# Conclusion\n",
    "In this project we use product category and unit price to predict whether a product category is high or low profit product. The accuracy is very close to 80%. It is suggested to use data from different columns and see which column of data leads to higher accuracy"
   ]
  }
 ],
 "metadata": {
  "kernelspec": {
   "display_name": "Python 3 (ipykernel)",
   "language": "python",
   "name": "python3"
  },
  "language_info": {
   "codemirror_mode": {
    "name": "ipython",
    "version": 3
   },
   "file_extension": ".py",
   "mimetype": "text/x-python",
   "name": "python",
   "nbconvert_exporter": "python",
   "pygments_lexer": "ipython3",
   "version": "3.7.6"
  }
 },
 "nbformat": 4,
 "nbformat_minor": 4
}
